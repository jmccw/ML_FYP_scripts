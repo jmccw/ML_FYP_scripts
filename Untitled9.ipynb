{
 "cells": [
  {
   "cell_type": "code",
   "execution_count": 1,
   "id": "f2e40905",
   "metadata": {},
   "outputs": [
    {
     "name": "stdout",
     "output_type": "stream",
     "text": [
      "1.12547783092\n"
     ]
    }
   ],
   "source": [
    "class Layer:\n",
    "    def __init__(self, material, thickness): # thickness in [A]\n",
    "        self.material = material\n",
    "        self.thickness = thickness\n",
    "\n",
    "class Material:\n",
    "    def __init__(self, name, affinity, band_gap, e_eff_mass, lh_eff_mass, hh_eff_mass, refractive):\n",
    "        self.affinity = affinity\n",
    "        self.band_gap = band_gap\n",
    "        self.e_eff_mass = e_eff_mass\n",
    "        self.lh_eff_mass = lh_eff_mass\n",
    "        self.hh_eff_mass = hh_eff_mass\n",
    "        self.name = name\n",
    "        self.refractive = refractive\n",
    "        \n",
    "    def getEffectiveMass(self, p):\n",
    "        if p == 0:\n",
    "            return self.e_eff_mass\n",
    "        if p == 1:\n",
    "            return self.lh_eff_mass\n",
    "        if p == 2:\n",
    "            return self.hh_eff_mass\n",
    "        \n",
    "    def getBandgap(self):\n",
    "        return self.band_gap\n",
    "    \n",
    "    def getRefractive(self):\n",
    "        return self.refractive\n",
    "    \n",
    "# Example Materials // BG = Bandgap, EF = Effective Electron Affinity for placing bands [REF: Takuya IEEE Quantum Electronics Vol 30, NO.2]\n",
    "# Decleration: Material(EF, BG, e_eff_mass, lh_eff_mass, hh_eff_mass, refractive index) \n",
    "GaAs = Material(\"GaAs\", 0.111, 1.42, 0.067, 0.08, 0.50, 3.9476)\n",
    "GaP = Material(\"GaP\", -0.388, 2.74, 0.25, 0.14, 0.67, 3.3798)\n",
    "InP = Material(\"InP\", 0.0, 1.35, 0.077, 0.12, 0.6, 3.3688)\n",
    "InAs = Material(\"InAs\", 0.441, 0.354, 0.023, 0.025, 0.40, 3.714)\n",
    "AlAs = Material(\"AlAs\", -0.4245, 2.95, 0.15, 0.16, 0.79, 2.9940) \n",
    "materials = [GaAs, GaP, InP, InAs, AlAs]\n",
    "# Simulation setup :: InGaAlAs\n",
    "alloys = []\n",
    "\n",
    "def BG_InGaAlAs(x, y):\n",
    "    return 0.36 + 2.093*y + 0.629*x + 0.577*y*y + 0.436*x*x + 1.013*x*y - 2.0*x*y*(1-x-y); # [eV]\n",
    "def EF_InGaAlAs(x, y): # Effective electron finity for placing conduction bands InGaAlAs\n",
    "    return 0.5766 - 0.3439*BG_InGaAlAs(x, y) # [eV] \n",
    "def effMass_InGaAlAs(x, y, particle):\n",
    "    return InAs.getEffectiveMass(particle)*(1-x-y) + GaAs.getEffectiveMass(particle)*(x) + AlAs.getEffectiveMass(particle)*(y);\n",
    "def refractive_InGaAlAs(x, y):\n",
    "    E_g = BG_InGaAlAs(x,y);\n",
    "    x=(E_g-0.75)/0.72;\n",
    "    w = 1240/E_g\n",
    "    if (x>1.0): x = 1\n",
    "    A = 9.689 - 1.012*x;\n",
    "    B = 1.590 - 0.376*x;\n",
    "    C = 1102.4 - 702.0*x + 330.4*x*x;\n",
    "    if (C+100 < w):\n",
    "        X = w*w-C*C\n",
    "    else: \n",
    "        X = (200*w+10000)\n",
    "    return np.sqrt(A + B*w*w/X);\n",
    "def InGaAlAs_material(bandgap): # in nm\n",
    "    bandgap = 1240/bandgap\n",
    "    x, y = getXY(bandgap)\n",
    "    temp = Material(\"In{}Ga{}Al{}As\".format(1-x-y,x,y), EF_InGaAlAs(x, y), BG_InGaAlAs(x, y), effMass_InGaAlAs(x, y, 0), effMass_InGaAlAs(x, y, 1), effMass_InGaAlAs(x, y, 2), refractive_InGaAlAs(x,y))\n",
    "    print(BG_InGaAlAs(x, y))\n",
    "    alloys.append(temp)\n",
    "    return temp\n",
    "\n",
    "print(BG_InGaAlAs(0.1831, 0.283))"
   ]
  },
  {
   "cell_type": "code",
   "execution_count": null,
   "id": "00b42c61",
   "metadata": {},
   "outputs": [],
   "source": [
    "def VBO(material1, material2): #conduction band offset default\n",
    "    calc1 = material1.getCB()-material2.getCB(); # 1=w 2=b\n",
    "    calc2 = material2.getVB()-material1.getVB();\n",
    "    calc3 = material1.getBG()-material2.getBG();\n",
    "    return -calc2 * calc3 / (calc2+calc1);\n",
    "\n",
    "def CBO(material1, material2): #valence band offset default\n",
    "    calc1 = material1.getCB()-material2.getCB();\n",
    "    calc2 = material2.getVB()-material1.getVB();\n",
    "    calc3 = material1.getBG()-material2.getBG();\n",
    "    return -calc1 * calc3 / (calc2+calc1);\n",
    "\n"
   ]
  }
 ],
 "metadata": {
  "kernelspec": {
   "display_name": "Python 3 (ipykernel)",
   "language": "python",
   "name": "python3"
  },
  "language_info": {
   "codemirror_mode": {
    "name": "ipython",
    "version": 3
   },
   "file_extension": ".py",
   "mimetype": "text/x-python",
   "name": "python",
   "nbconvert_exporter": "python",
   "pygments_lexer": "ipython3",
   "version": "3.9.13"
  }
 },
 "nbformat": 4,
 "nbformat_minor": 5
}
